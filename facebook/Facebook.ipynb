{
 "cells": [
  {
   "cell_type": "markdown",
   "metadata": {},
   "source": [
    "### Extraccion y visualizacion de informacion"
   ]
  },
  {
   "cell_type": "code",
   "execution_count": 5,
   "metadata": {
    "scrolled": false
   },
   "outputs": [
    {
     "name": "stdout",
     "output_type": "stream",
     "text": [
      "-----------------------\n",
      "255\n",
      "-----------------------\n",
      "269\n",
      "-----------------------\n",
      "1470\n",
      "-----------------------\n",
      "56\n",
      "-----------------------\n",
      "129\n",
      "-----------------------\n",
      "573\n",
      "-----------------------\n",
      "159\n",
      "-----------------------\n",
      "11\n",
      "-----------------------\n",
      "1068\n",
      "-----------------------\n",
      "11\n",
      "-----------------------\n",
      "92\n",
      "-----------------------\n",
      "146\n",
      "-----------------------\n",
      "1875\n",
      "-----------------------\n",
      "159\n",
      "-----------------------\n",
      "2234\n",
      "-----------------------\n",
      "165\n",
      "-----------------------\n",
      "560\n",
      "-----------------------\n",
      "1599\n",
      "-----------------------\n",
      "88\n",
      "-----------------------\n",
      "100\n",
      "-----------------------\n",
      "149\n",
      "-----------------------\n",
      "1064\n",
      "-----------------------\n",
      "406\n",
      "-----------------------\n",
      "375\n",
      "-----------------------\n",
      "151\n",
      "-----------------------\n",
      "1190\n"
     ]
    }
   ],
   "source": [
    "from facebook_scraper import get_posts\n",
    "for post in get_posts('yakuperezoficial', pages=7):\n",
    "    #print(post)\n",
    "    print(\"-----------------------\")\n",
    "    ##print(post['time'])\n",
    "    ##print(post['text'])\n",
    "    print(post['comments'])"
   ]
  },
  {
   "cell_type": "code",
   "execution_count": 6,
   "metadata": {},
   "outputs": [],
   "source": [
    "##pip install facebook-scraper\n",
    "#pip install xlsxwriter\n",
    "#pip install xlrd\n",
    "#pip install selenium\n",
    "#pip install PyYAML"
   ]
  },
  {
   "cell_type": "markdown",
   "metadata": {},
   "source": [
    "### Extraccion y almacenamiento de informacion "
   ]
  },
  {
   "cell_type": "code",
   "execution_count": 1,
   "metadata": {
    "scrolled": false
   },
   "outputs": [
    {
     "name": "stderr",
     "output_type": "stream",
     "text": [
      "C:\\Users\\xa_cx\\Anaconda3\\lib\\site-packages\\pandas\\plotting\\_matplotlib\\converter.py:103: FutureWarning: Using an implicitly registered datetime converter for a matplotlib plotting method. The converter was registered by pandas on import. Future versions of pandas will require you to explicitly register matplotlib converters.\n",
      "\n",
      "To register the converters:\n",
      "\t>>> from pandas.plotting import register_matplotlib_converters\n",
      "\t>>> register_matplotlib_converters()\n",
      "  warnings.warn(msg, FutureWarning)\n",
      "C:\\Users\\xa_cx\\Anaconda3\\lib\\site-packages\\xlsxwriter\\worksheet.py:931: UserWarning: Ignoring URL 'https://scontent.fcue2-1.fna.fbcdn.net/v/t1.0-9/fr/cp0/e15/q65/126064080_3300778453395225_7836375245763138687_o.jpg?_nc_cat=110&ccb=2&_nc_sid=110474&_nc_ohc=uqUQru1tO6wAX_odEFV&_nc_ht=scontent.fcue2-1.fna&tp=14&oh=84cb0f72a7bdb8f4742cf4ab0c9c6ec3&oe=5FEC70DC' with link or location/anchor > 255 characters since it exceeds Excel's limit for URLS\n",
      "  force_unicode(url))\n",
      "C:\\Users\\xa_cx\\Anaconda3\\lib\\site-packages\\xlsxwriter\\worksheet.py:931: UserWarning: Ignoring URL 'https://scontent.fcue2-1.fna.fbcdn.net/v/t1.0-9/fr/cp0/e15/q65/127785130_3304368853036185_1485227451236053617_o.jpg?_nc_cat=102&ccb=2&_nc_sid=110474&_nc_ohc=Km5XSee0lbkAX8N2zSg&_nc_ht=scontent.fcue2-1.fna&tp=14&oh=cc9e171404803d69c0f4f5f9e21d998e&oe=5FEDAC72' with link or location/anchor > 255 characters since it exceeds Excel's limit for URLS\n",
      "  force_unicode(url))\n",
      "C:\\Users\\xa_cx\\Anaconda3\\lib\\site-packages\\xlsxwriter\\worksheet.py:931: UserWarning: Ignoring URL 'https://scontent.fcue2-1.fna.fbcdn.net/v/t1.0-9/fr/cp0/e15/q65/127220406_3303986086407795_6002974059776819230_o.jpg?_nc_cat=102&ccb=2&_nc_sid=9e2e56&_nc_ohc=ZE1euHEvk3UAX9WWeQr&_nc_ht=scontent.fcue2-1.fna&tp=14&oh=dc0ddf6e091e0441f16a46940f126a31&oe=5FEB4DB4' with link or location/anchor > 255 characters since it exceeds Excel's limit for URLS\n",
      "  force_unicode(url))\n",
      "C:\\Users\\xa_cx\\Anaconda3\\lib\\site-packages\\xlsxwriter\\worksheet.py:931: UserWarning: Ignoring URL 'https://scontent.fcue2-1.fna.fbcdn.net/v/t1.0-9/fr/cp0/e15/q65/127534279_3303439086462495_7505434430345019666_n.jpg?_nc_cat=108&ccb=2&_nc_sid=110474&_nc_ohc=QEHJ0RozKpQAX-prxbB&_nc_ht=scontent.fcue2-1.fna&tp=14&oh=431b09b459b311e4130f171db0caf2ca&oe=5FEDC9B2' with link or location/anchor > 255 characters since it exceeds Excel's limit for URLS\n",
      "  force_unicode(url))\n",
      "C:\\Users\\xa_cx\\Anaconda3\\lib\\site-packages\\xlsxwriter\\worksheet.py:931: UserWarning: Ignoring URL 'https://scontent.fcue2-1.fna.fbcdn.net/v/t1.0-9/fr/cp0/e15/q65/127166674_3302673229872414_5719025888476090674_n.jpg?_nc_cat=105&ccb=2&_nc_sid=110474&_nc_ohc=746MwcRxtzIAX-SFdNA&_nc_ht=scontent.fcue2-1.fna&tp=14&oh=faf69a43dd3563a36ac416a90e2f2434&oe=5FEB67BA' with link or location/anchor > 255 characters since it exceeds Excel's limit for URLS\n",
      "  force_unicode(url))\n",
      "C:\\Users\\xa_cx\\Anaconda3\\lib\\site-packages\\xlsxwriter\\worksheet.py:931: UserWarning: Ignoring URL 'https://scontent.fcue2-1.fna.fbcdn.net/v/t1.0-9/fr/cp0/e15/q65/126520467_3301833969956340_6543040337882261374_o.jpg?_nc_cat=110&ccb=2&_nc_sid=110474&_nc_ohc=qoLLMcnVVKwAX8oG9QK&_nc_ht=scontent.fcue2-1.fna&tp=14&oh=4cd4a530e0d64ae7cbf85928165708e1&oe=5FEED324' with link or location/anchor > 255 characters since it exceeds Excel's limit for URLS\n",
      "  force_unicode(url))\n",
      "C:\\Users\\xa_cx\\Anaconda3\\lib\\site-packages\\xlsxwriter\\worksheet.py:931: UserWarning: Ignoring URL 'https://scontent.fcue2-1.fna.fbcdn.net/v/t1.0-9/fr/cp0/e15/q65/126044053_3301708396635564_3832112456560484330_n.jpg?_nc_cat=101&ccb=2&_nc_sid=110474&_nc_ohc=lv4jE6AceUUAX8txiH9&_nc_ht=scontent.fcue2-1.fna&tp=14&oh=1ae194e2644f4cedf09c0cf554ef2adc&oe=5FEBB62B' with link or location/anchor > 255 characters since it exceeds Excel's limit for URLS\n",
      "  force_unicode(url))\n",
      "C:\\Users\\xa_cx\\Anaconda3\\lib\\site-packages\\xlsxwriter\\worksheet.py:931: UserWarning: Ignoring URL 'https://scontent.fcue2-1.fna.fbcdn.net/v/t1.0-9/fr/cp0/e15/q65/126904424_3301535819986155_239945425447402737_n.jpg?_nc_cat=107&ccb=2&_nc_sid=110474&_nc_ohc=4MhE7Ha4ctEAX_JztA0&_nc_ht=scontent.fcue2-1.fna&tp=14&oh=9155985ee3ef786451ac1106d69aebfd&oe=5FEEF2BF' with link or location/anchor > 255 characters since it exceeds Excel's limit for URLS\n",
      "  force_unicode(url))\n",
      "C:\\Users\\xa_cx\\Anaconda3\\lib\\site-packages\\xlsxwriter\\worksheet.py:931: UserWarning: Ignoring URL 'https://scontent.fcue2-1.fna.fbcdn.net/v/t1.0-9/fr/cp0/e15/q65/126932698_3300895790050158_1988047249230900341_n.jpg?_nc_cat=103&ccb=2&_nc_sid=110474&_nc_ohc=s2GrOjeop_cAX8J6BfD&_nc_oc=AQlyH_uT3VZGV9Ut_wiB8ZLKw98_9C2FIDUtiSheM_s1zQlweSvml0RvmE35B6F-3IQ&_nc_ht=scontent.fcue2-1.fna&tp=14&oh=91f5738b8a66510816b7d6d7b596d903&oe=5FEDBA18' with link or location/anchor > 255 characters since it exceeds Excel's limit for URLS\n",
      "  force_unicode(url))\n",
      "C:\\Users\\xa_cx\\Anaconda3\\lib\\site-packages\\xlsxwriter\\worksheet.py:931: UserWarning: Ignoring URL 'https://scontent.fcue2-1.fna.fbcdn.net/v/t66.36281-6/10000000_424170885636343_3758923933215049553_n.mp4?_nc_cat=109&ccb=2&_nc_sid=985c63&efg=eyJ2ZW5jb2RlX3RhZyI6Im9lcF9zZCJ9&_nc_ohc=DTxDg5wFkYQAX-2QdoV&_nc_ht=scontent.fcue2-1.fna&oh=36426b8b4c2b42a6ce31e20323ebb4a7&oe=5FEE46DD' with link or location/anchor > 255 characters since it exceeds Excel's limit for URLS\n",
      "  force_unicode(url))\n",
      "C:\\Users\\xa_cx\\Anaconda3\\lib\\site-packages\\xlsxwriter\\worksheet.py:931: UserWarning: Ignoring URL 'https://scontent.fcue2-1.fna.fbcdn.net/v/t66.36281-6/10000000_946921205716560_4237424506754624126_n.mp4?_nc_cat=102&ccb=2&_nc_sid=985c63&efg=eyJ2ZW5jb2RlX3RhZyI6Im9lcF9zZCJ9&_nc_ohc=vhlFXdS5UXIAX_m-De7&_nc_ht=scontent.fcue2-1.fna&oh=d503ea5a2b35a02d42d40c6c0824f57d&oe=5FED2B06' with link or location/anchor > 255 characters since it exceeds Excel's limit for URLS\n",
      "  force_unicode(url))\n",
      "C:\\Users\\xa_cx\\Anaconda3\\lib\\site-packages\\xlsxwriter\\worksheet.py:931: UserWarning: Ignoring URL 'https://scontent.fcue2-1.fna.fbcdn.net/v/t66.36281-6/10000000_204520081114813_2039395947628209378_n.mp4?_nc_cat=104&ccb=2&_nc_sid=985c63&efg=eyJ2ZW5jb2RlX3RhZyI6Im9lcF9zZCJ9&_nc_ohc=92FQ96BLPmwAX_hMEC8&_nc_ht=scontent.fcue2-1.fna&oh=99691d1bd3c82a82bf3e501f53a8e48a&oe=5FED9D8E' with link or location/anchor > 255 characters since it exceeds Excel's limit for URLS\n",
      "  force_unicode(url))\n",
      "C:\\Users\\xa_cx\\Anaconda3\\lib\\site-packages\\xlsxwriter\\worksheet.py:931: UserWarning: Ignoring URL 'https://scontent.fcue2-1.fna.fbcdn.net/v/t66.36281-6/10000000_1113031199133413_4044203257487053378_n.mp4?_nc_cat=111&ccb=2&_nc_sid=985c63&efg=eyJ2ZW5jb2RlX3RhZyI6Im9lcF9zZCJ9&_nc_ohc=a12WGufpFCEAX_fpVey&_nc_oc=AQniu9qlhHtdtKl-ynknV0omAXwPEiYbvMi5GfDP5Q1xJGAvFNR-XdkWoUizoZYpTpc&_nc_ht=scontent.fcue2-1.fna&oh=b662dd6d7bac494a863cdaf18275003f&oe=5FEE3446' with link or location/anchor > 255 characters since it exceeds Excel's limit for URLS\n",
      "  force_unicode(url))\n",
      "C:\\Users\\xa_cx\\Anaconda3\\lib\\site-packages\\xlsxwriter\\worksheet.py:931: UserWarning: Ignoring URL 'https://scontent.fcue2-1.fna.fbcdn.net/v/t66.36281-6/10000000_420892999148871_2614805060839018698_n.mp4?_nc_cat=105&ccb=2&_nc_sid=985c63&efg=eyJ2ZW5jb2RlX3RhZyI6Im9lcF9zZCJ9&_nc_ohc=K_rv3wc5EIUAX-678_K&_nc_ht=scontent.fcue2-1.fna&oh=2f1312c4010fea5ddf01fcb4675cd296&oe=5FEE8CF0' with link or location/anchor > 255 characters since it exceeds Excel's limit for URLS\n",
      "  force_unicode(url))\n",
      "C:\\Users\\xa_cx\\Anaconda3\\lib\\site-packages\\xlsxwriter\\worksheet.py:931: UserWarning: Ignoring URL 'https://scontent.fcue2-1.fna.fbcdn.net/v/t66.36281-6/10000000_364844948137055_257036360074881529_n.mp4?_nc_cat=100&ccb=2&_nc_sid=985c63&efg=eyJ2ZW5jb2RlX3RhZyI6Im9lcF9zZCJ9&_nc_ohc=drBDVSeJvAsAX-DZJXj&_nc_ht=scontent.fcue2-1.fna&oh=153fb813d7419701fe5e7ad285338ad5&oe=5FEE1EAA' with link or location/anchor > 255 characters since it exceeds Excel's limit for URLS\n",
      "  force_unicode(url))\n",
      "C:\\Users\\xa_cx\\Anaconda3\\lib\\site-packages\\xlsxwriter\\worksheet.py:931: UserWarning: Ignoring URL 'https://scontent.fcue2-1.fna.fbcdn.net/v/t66.36281-6/10000000_369803630960320_6686898446624693454_n.mp4?_nc_cat=109&ccb=2&_nc_sid=985c63&efg=eyJ2ZW5jb2RlX3RhZyI6Im9lcF9zZCJ9&_nc_ohc=UUK6XmvLu-EAX95xjgd&_nc_ht=scontent.fcue2-1.fna&oh=81f5a4030714668949c31d166a4bc61d&oe=5FECBE30' with link or location/anchor > 255 characters since it exceeds Excel's limit for URLS\n",
      "  force_unicode(url))\n",
      "C:\\Users\\xa_cx\\Anaconda3\\lib\\site-packages\\xlsxwriter\\worksheet.py:931: UserWarning: Ignoring URL 'https://scontent.fcue2-1.fna.fbcdn.net/v/t66.36281-6/10000000_137264348150326_5416718348268686071_n.mp4?_nc_cat=111&ccb=2&_nc_sid=985c63&efg=eyJ2ZW5jb2RlX3RhZyI6Im9lcF9zZCJ9&_nc_ohc=AVa-azo_zMAAX9ZBA55&_nc_ht=scontent.fcue2-1.fna&oh=31571262973c59c6cf0f91673ed21671&oe=5FEC54D0' with link or location/anchor > 255 characters since it exceeds Excel's limit for URLS\n",
      "  force_unicode(url))\n",
      "C:\\Users\\xa_cx\\Anaconda3\\lib\\site-packages\\xlsxwriter\\worksheet.py:931: UserWarning: Ignoring URL 'https://scontent.fcue2-1.fna.fbcdn.net/v/t66.36281-6/10000000_818512175605436_2166725311518688889_n.mp4?_nc_cat=108&ccb=2&_nc_sid=985c63&efg=eyJ2ZW5jb2RlX3RhZyI6Im9lcF9zZCJ9&_nc_ohc=s8kJAYWwELwAX8kx2Z-&_nc_ht=scontent.fcue2-1.fna&oh=90b2a90c39a7ac16dab79b862a6849bc&oe=5FEC56B2' with link or location/anchor > 255 characters since it exceeds Excel's limit for URLS\n",
      "  force_unicode(url))\n",
      "C:\\Users\\xa_cx\\Anaconda3\\lib\\site-packages\\xlsxwriter\\worksheet.py:931: UserWarning: Ignoring URL 'https://scontent.fcue2-1.fna.fbcdn.net/v/t15.13418-10/cp0/e15/q65/p173x172/121891328_407638793977251_5610386624067637085_n.jpg?_nc_cat=100&ccb=2&_nc_sid=ccf8b3&_nc_ohc=9ilByv2WAYUAX-XYh4W&_nc_ht=scontent.fcue2-1.fna&oh=c01e4173765cc2958eaaeb9a9f698212&oe=5FEDC12C' with link or location/anchor > 255 characters since it exceeds Excel's limit for URLS\n",
      "  force_unicode(url))\n",
      "C:\\Users\\xa_cx\\Anaconda3\\lib\\site-packages\\xlsxwriter\\worksheet.py:931: UserWarning: Ignoring URL 'https://scontent.fcue2-1.fna.fbcdn.net/v/t15.13418-10/cp0/e15/q65/p173x172/125785849_426184695218447_2599020269581530946_n.jpg?_nc_cat=107&ccb=2&_nc_sid=ccf8b3&_nc_ohc=bfbKgDhkjCgAX9FSRyU&_nc_ht=scontent.fcue2-1.fna&oh=d1ed61c32dd513bf7e33410fe7605ef5&oe=5FED2A6B' with link or location/anchor > 255 characters since it exceeds Excel's limit for URLS\n",
      "  force_unicode(url))\n",
      "C:\\Users\\xa_cx\\Anaconda3\\lib\\site-packages\\xlsxwriter\\worksheet.py:931: UserWarning: Ignoring URL 'https://scontent.fcue2-1.fna.fbcdn.net/v/t15.13418-10/cp0/e15/q65/p173x172/126040407_1658161991028209_9205399803586721158_n.jpg?_nc_cat=102&ccb=2&_nc_sid=ccf8b3&_nc_ohc=J2dbeHnreVoAX8gRgNX&_nc_ht=scontent.fcue2-1.fna&oh=b3a0c94576521b6b69d6421c4070715e&oe=5FECB171' with link or location/anchor > 255 characters since it exceeds Excel's limit for URLS\n",
      "  force_unicode(url))\n",
      "C:\\Users\\xa_cx\\Anaconda3\\lib\\site-packages\\xlsxwriter\\worksheet.py:931: UserWarning: Ignoring URL 'https://scontent.fcue2-1.fna.fbcdn.net/v/t15.13418-10/cp0/e15/q65/p173x172/121911683_731799864358620_6582618747174043394_n.jpg?_nc_cat=110&ccb=2&_nc_sid=ccf8b3&_nc_ohc=O6RT0MXBADgAX_aDAT5&_nc_ht=scontent.fcue2-1.fna&oh=1e9f1ce49ad0ad3cdf35f0090f129e02&oe=5FECCAF5' with link or location/anchor > 255 characters since it exceeds Excel's limit for URLS\n",
      "  force_unicode(url))\n",
      "C:\\Users\\xa_cx\\Anaconda3\\lib\\site-packages\\xlsxwriter\\worksheet.py:931: UserWarning: Ignoring URL 'https://scontent.fcue2-1.fna.fbcdn.net/v/t15.13418-10/cp0/e15/q65/p173x172/125462883_507814366762029_8825011445879844373_n.jpg?_nc_cat=111&ccb=2&_nc_sid=ccf8b3&_nc_ohc=gAuGIhwSv_cAX9Ul7vW&_nc_ht=scontent.fcue2-1.fna&tp=3&oh=6747f9c2d50963470268d2e240a5eba4&oe=5FEE1969' with link or location/anchor > 255 characters since it exceeds Excel's limit for URLS\n",
      "  force_unicode(url))\n",
      "C:\\Users\\xa_cx\\Anaconda3\\lib\\site-packages\\xlsxwriter\\worksheet.py:931: UserWarning: Ignoring URL 'https://scontent.fcue2-1.fna.fbcdn.net/v/t15.13418-10/cp0/e15/q65/p173x172/121920565_1334275163583916_1622136144569396093_n.jpg?_nc_cat=107&ccb=2&_nc_sid=ccf8b3&_nc_ohc=4ArRrRgVlewAX8VvQdG&_nc_ht=scontent.fcue2-1.fna&oh=94023bcc3a58b5eebe6a1334b8ebda52&oe=5FEE61CE' with link or location/anchor > 255 characters since it exceeds Excel's limit for URLS\n",
      "  force_unicode(url))\n",
      "C:\\Users\\xa_cx\\Anaconda3\\lib\\site-packages\\xlsxwriter\\worksheet.py:931: UserWarning: Ignoring URL 'https://scontent.fcue2-1.fna.fbcdn.net/v/t15.13418-10/cp0/e15/q65/p173x172/121842892_195377672175696_8897126011166627038_n.jpg?_nc_cat=106&ccb=2&_nc_sid=ccf8b3&_nc_ohc=VlqMAButicEAX-WKt4I&_nc_ht=scontent.fcue2-1.fna&oh=fc953b356cf7424964fd89ef50862d85&oe=5FEC5665' with link or location/anchor > 255 characters since it exceeds Excel's limit for URLS\n",
      "  force_unicode(url))\n",
      "C:\\Users\\xa_cx\\Anaconda3\\lib\\site-packages\\xlsxwriter\\worksheet.py:931: UserWarning: Ignoring URL 'https://scontent.fcue2-1.fna.fbcdn.net/v/t15.13418-10/cp0/e15/q65/p173x172/121924897_115632490243072_7756828270962083738_n.jpg?_nc_cat=107&ccb=2&_nc_sid=ccf8b3&_nc_ohc=wn2TBIDEna0AX8YZaGJ&_nc_ht=scontent.fcue2-1.fna&oh=78700e6fcf46cd15c4d820b974e6bae6&oe=5FEC15C5' with link or location/anchor > 255 characters since it exceeds Excel's limit for URLS\n",
      "  force_unicode(url))\n",
      "C:\\Users\\xa_cx\\Anaconda3\\lib\\site-packages\\xlsxwriter\\worksheet.py:931: UserWarning: Ignoring URL 'https://scontent.fcue2-1.fna.fbcdn.net/v/t15.13418-10/cp0/e15/q65/p173x172/121896131_213213130239703_6644931206099007866_n.jpg?_nc_cat=110&ccb=2&_nc_sid=ccf8b3&_nc_ohc=IaFyh6qq7cUAX9lqj1D&_nc_ht=scontent.fcue2-1.fna&oh=4b694c785cf645a7e079f6654b79e481&oe=5FEBAAEF' with link or location/anchor > 255 characters since it exceeds Excel's limit for URLS\n",
      "  force_unicode(url))\n"
     ]
    },
    {
     "name": "stdout",
     "output_type": "stream",
     "text": [
      "0      255\n",
      "1      272\n",
      "2     1476\n",
      "3       57\n",
      "4      129\n",
      "5      577\n",
      "6      160\n",
      "7       11\n",
      "8     1071\n",
      "9       11\n",
      "10      92\n",
      "11     146\n",
      "12    1880\n",
      "13     159\n",
      "14    2235\n",
      "15     165\n",
      "16     562\n",
      "17    1600\n",
      "Name: comments, dtype: int64\n"
     ]
    }
   ],
   "source": [
    "import pandas as pd\n",
    "import os\n",
    "import matplotlib.pyplot as plt\n",
    "from facebook_scraper import get_posts\n",
    "\n",
    "os.chdir(r'C:\\Users\\xa_cx\\Downloads\\EXTENSIONES\\DATA')\n",
    "posts = []\n",
    "\n",
    "# Obtenemos la información de las publicaciones\n",
    "for post in get_posts('yakuperezoficial', pages=5):\n",
    "    #print(post)\n",
    "    posts.append(post)\n",
    "\n",
    "# Pasamos a formato base de datos\n",
    "fb_posts = pd.DataFrame(posts)\n",
    "plt.plot(fb_posts['time'], fb_posts['likes'])\n",
    "print(fb_posts['comments'])\n",
    "fb_posts.to_excel('data_facebook.xlsx',index=False)\n",
    "\n",
    "\n"
   ]
  },
  {
   "cell_type": "markdown",
   "metadata": {},
   "source": [
    "### Usu de selenium para extraccion de informacion."
   ]
  },
  {
   "cell_type": "code",
   "execution_count": 10,
   "metadata": {},
   "outputs": [],
   "source": [
    "\n",
    "#pip install selenium\n",
    "from sys import exit\n",
    "import calendar\n",
    "import time\n",
    "import os\n",
    "os.chdir(r\"C:\\Users\\xa_cx\\Downloads\\EXTENSIONES\\DATA\")\n",
    "import platform\n",
    "import sys\n",
    "import time\n",
    "\n",
    "from selenium import webdriver\n",
    "from selenium.common.exceptions import TimeoutException, NoSuchElementException\n",
    "from selenium.webdriver.chrome.options import Options\n",
    "from selenium.webdriver.common.by import By\n",
    "from selenium.webdriver.support import expected_conditions as EC\n",
    "from selenium.webdriver.support.ui import WebDriverWait\n",
    "\n",
    "def login(email, password):\n",
    "    \"\"\" Logging into our own profile \"\"\"\n",
    "\n",
    "    try:\n",
    "        global driver\n",
    "\n",
    "        options = Options()\n",
    "\n",
    "        #  Code to disable notifications pop up of Chrome Browser\n",
    "        options.add_argument(\"--disable-notifications\")\n",
    "        options.add_argument(\"--disable-infobars\")\n",
    "        options.add_argument(\"--mute-audio\")\n",
    "        # options.add_argument(\"headless\")\n",
    "\n",
    "        try:\n",
    "            driver = webdriver.Chrome(executable_path=r\"C:\\Users\\xa_cx\\AppData\\Local\\Programs\\Python\\Python38\\Lib\\site-packages\\selenium\\chromedriver.exe\", options=options)\n",
    "            print(\"you logged in. Let's rock\")\n",
    "        except:\n",
    "            print(\"you need web driver!\")\n",
    "            exit()\n",
    "\n",
    "        driver.get(\"https://en-gb.facebook.com\")\n",
    "        driver.maximize_window()\n",
    "\n",
    "        # filling the form\n",
    "        driver.find_element_by_name('email').send_keys(email)\n",
    "        driver.find_element_by_name('pass').send_keys(password)\n",
    "\n",
    "        # clicking on login button\n",
    "        driver.find_element_by_id('u_0_b').click()\n",
    "        \n",
    "    except:\n",
    "        print(\"maybe something is wrong\")"
   ]
  },
  {
   "cell_type": "code",
   "execution_count": 14,
   "metadata": {},
   "outputs": [],
   "source": [
    "def main():\n",
    "    with open(r\"C:\\Users\\xa_cx\\Downloads\\EXTENSIONES\\credentials.txt\") as f:\n",
    "        email = f.readline().split('\"')[1]\n",
    "        password = f.readline().split('\"')[1]\n",
    "\n",
    "        if email == \"\" or password == \"\":\n",
    "            print(\"Your email or password is missing. Kindly write them in credentials.txt\")\n",
    "            exit()\n",
    "\n",
    "    ids = [\"https://en-gb.facebook.com/\" + line.split(\"/\")[-1] for line in open(r\"C:\\Users\\xa_cx\\Downloads\\EXTENSIONES\\input.txt\", newline='\\n')]\n",
    "\n",
    "    if len(ids) > 0:\n",
    "        print(\"\\nStarting Scraping...\")\n",
    "\n",
    "        login(email, password)\n",
    "        time.sleep(5)\n",
    "        print(ids)\n",
    "        driver.get(ids[0])\n",
    "        #driver.close()\n",
    "    else:\n",
    "        print(\"Input file is empty.\")"
   ]
  },
  {
   "cell_type": "code",
   "execution_count": 15,
   "metadata": {},
   "outputs": [
    {
     "name": "stdout",
     "output_type": "stream",
     "text": [
      "\n",
      "Starting Scraping...\n",
      "you logged in. Let's rock\n",
      "['https://en-gb.facebook.com/xavier.jarro']\n"
     ]
    }
   ],
   "source": [
    "if __name__ == '__main__':\n",
    "    # Let's begin\n",
    "    main()"
   ]
  },
  {
   "cell_type": "code",
   "execution_count": null,
   "metadata": {},
   "outputs": [],
   "source": []
  },
  {
   "cell_type": "code",
   "execution_count": null,
   "metadata": {},
   "outputs": [],
   "source": []
  },
  {
   "cell_type": "code",
   "execution_count": null,
   "metadata": {},
   "outputs": [],
   "source": []
  },
  {
   "cell_type": "code",
   "execution_count": null,
   "metadata": {},
   "outputs": [],
   "source": []
  },
  {
   "cell_type": "code",
   "execution_count": null,
   "metadata": {},
   "outputs": [],
   "source": []
  },
  {
   "cell_type": "code",
   "execution_count": null,
   "metadata": {},
   "outputs": [],
   "source": []
  }
 ],
 "metadata": {
  "kernelspec": {
   "display_name": "Python 3",
   "language": "python",
   "name": "python3"
  },
  "language_info": {
   "codemirror_mode": {
    "name": "ipython",
    "version": 3
   },
   "file_extension": ".py",
   "mimetype": "text/x-python",
   "name": "python",
   "nbconvert_exporter": "python",
   "pygments_lexer": "ipython3",
   "version": "3.7.4"
  }
 },
 "nbformat": 4,
 "nbformat_minor": 2
}
